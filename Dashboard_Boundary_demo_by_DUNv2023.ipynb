{
  "cells": [
    {
      "cell_type": "markdown",
      "metadata": {
        "id": "view-in-github",
        "colab_type": "text"
      },
      "source": [
        "<a href=\"https://colab.research.google.com/github/booluckgmie/podac/blob/main/Dashboard_Boundary_demo_by_DUNv2023.ipynb\" target=\"_parent\"><img src=\"https://colab.research.google.com/assets/colab-badge.svg\" alt=\"Open In Colab\"/></a>"
      ]
    },
    {
      "cell_type": "code",
      "source": [
        "!pip install pandas_geojson geopandas folium panel"
      ],
      "metadata": {
        "id": "B54sOgpWCgCO",
        "outputId": "c6dbb4a3-bb4b-4228-925d-f1aa5caab724",
        "colab": {
          "base_uri": "https://localhost:8080/"
        }
      },
      "id": "B54sOgpWCgCO",
      "execution_count": 2,
      "outputs": [
        {
          "output_type": "stream",
          "name": "stdout",
          "text": [
            "Collecting pandas_geojson\n",
            "  Downloading pandas_geojson-1.2.0-py3-none-any.whl (4.6 kB)\n",
            "Requirement already satisfied: geopandas in /usr/local/lib/python3.10/dist-packages (0.13.2)\n",
            "Requirement already satisfied: folium in /usr/local/lib/python3.10/dist-packages (0.14.0)\n",
            "Requirement already satisfied: panel in /usr/local/lib/python3.10/dist-packages (0.14.4)\n",
            "Requirement already satisfied: pandas in /usr/local/lib/python3.10/dist-packages (from pandas_geojson) (1.5.3)\n",
            "Requirement already satisfied: fiona>=1.8.19 in /usr/local/lib/python3.10/dist-packages (from geopandas) (1.9.4.post1)\n",
            "Requirement already satisfied: packaging in /usr/local/lib/python3.10/dist-packages (from geopandas) (23.1)\n",
            "Requirement already satisfied: pyproj>=3.0.1 in /usr/local/lib/python3.10/dist-packages (from geopandas) (3.6.0)\n",
            "Requirement already satisfied: shapely>=1.7.1 in /usr/local/lib/python3.10/dist-packages (from geopandas) (2.0.1)\n",
            "Requirement already satisfied: branca>=0.6.0 in /usr/local/lib/python3.10/dist-packages (from folium) (0.6.0)\n",
            "Requirement already satisfied: jinja2>=2.9 in /usr/local/lib/python3.10/dist-packages (from folium) (3.1.2)\n",
            "Requirement already satisfied: numpy in /usr/local/lib/python3.10/dist-packages (from folium) (1.22.4)\n",
            "Requirement already satisfied: requests in /usr/local/lib/python3.10/dist-packages (from folium) (2.27.1)\n",
            "Requirement already satisfied: bokeh<2.5.0,>=2.4.0 in /usr/local/lib/python3.10/dist-packages (from panel) (2.4.3)\n",
            "Requirement already satisfied: param>=1.12.0 in /usr/local/lib/python3.10/dist-packages (from panel) (1.13.0)\n",
            "Requirement already satisfied: pyviz-comms>=0.7.4 in /usr/local/lib/python3.10/dist-packages (from panel) (2.3.2)\n",
            "Requirement already satisfied: markdown in /usr/local/lib/python3.10/dist-packages (from panel) (3.4.3)\n",
            "Requirement already satisfied: tqdm>=4.48.0 in /usr/local/lib/python3.10/dist-packages (from panel) (4.65.0)\n",
            "Requirement already satisfied: pyct>=0.4.4 in /usr/local/lib/python3.10/dist-packages (from panel) (0.5.0)\n",
            "Requirement already satisfied: bleach in /usr/local/lib/python3.10/dist-packages (from panel) (6.0.0)\n",
            "Requirement already satisfied: setuptools>=42 in /usr/local/lib/python3.10/dist-packages (from panel) (67.7.2)\n",
            "Requirement already satisfied: typing-extensions in /usr/local/lib/python3.10/dist-packages (from panel) (4.7.1)\n",
            "Requirement already satisfied: pillow>=7.1.0 in /usr/local/lib/python3.10/dist-packages (from bokeh<2.5.0,>=2.4.0->panel) (8.4.0)\n",
            "Requirement already satisfied: PyYAML>=3.10 in /usr/local/lib/python3.10/dist-packages (from bokeh<2.5.0,>=2.4.0->panel) (6.0)\n",
            "Requirement already satisfied: tornado>=5.1 in /usr/local/lib/python3.10/dist-packages (from bokeh<2.5.0,>=2.4.0->panel) (6.3.1)\n",
            "Requirement already satisfied: attrs>=19.2.0 in /usr/local/lib/python3.10/dist-packages (from fiona>=1.8.19->geopandas) (23.1.0)\n",
            "Requirement already satisfied: certifi in /usr/local/lib/python3.10/dist-packages (from fiona>=1.8.19->geopandas) (2023.5.7)\n",
            "Requirement already satisfied: click~=8.0 in /usr/local/lib/python3.10/dist-packages (from fiona>=1.8.19->geopandas) (8.1.4)\n",
            "Requirement already satisfied: click-plugins>=1.0 in /usr/local/lib/python3.10/dist-packages (from fiona>=1.8.19->geopandas) (1.1.1)\n",
            "Requirement already satisfied: cligj>=0.5 in /usr/local/lib/python3.10/dist-packages (from fiona>=1.8.19->geopandas) (0.7.2)\n",
            "Requirement already satisfied: six in /usr/local/lib/python3.10/dist-packages (from fiona>=1.8.19->geopandas) (1.16.0)\n",
            "Requirement already satisfied: MarkupSafe>=2.0 in /usr/local/lib/python3.10/dist-packages (from jinja2>=2.9->folium) (2.1.3)\n",
            "Requirement already satisfied: python-dateutil>=2.8.1 in /usr/local/lib/python3.10/dist-packages (from pandas->pandas_geojson) (2.8.2)\n",
            "Requirement already satisfied: pytz>=2020.1 in /usr/local/lib/python3.10/dist-packages (from pandas->pandas_geojson) (2022.7.1)\n",
            "Requirement already satisfied: webencodings in /usr/local/lib/python3.10/dist-packages (from bleach->panel) (0.5.1)\n",
            "Requirement already satisfied: urllib3<1.27,>=1.21.1 in /usr/local/lib/python3.10/dist-packages (from requests->folium) (1.26.16)\n",
            "Requirement already satisfied: charset-normalizer~=2.0.0 in /usr/local/lib/python3.10/dist-packages (from requests->folium) (2.0.12)\n",
            "Requirement already satisfied: idna<4,>=2.5 in /usr/local/lib/python3.10/dist-packages (from requests->folium) (3.4)\n",
            "Installing collected packages: pandas_geojson\n",
            "Successfully installed pandas_geojson-1.2.0\n"
          ]
        }
      ]
    },
    {
      "cell_type": "markdown",
      "source": [
        "All in features with selection"
      ],
      "metadata": {
        "id": "y3de5v-5UvzR"
      },
      "id": "y3de5v-5UvzR"
    },
    {
      "cell_type": "code",
      "source": [
        "import folium as fm\n",
        "import panel as pn\n",
        "from pandas_geojson import filter_geojson\n",
        "\n",
        "def create_app2(sociodemo, geo_json, select):\n",
        "    selectv = select.value\n",
        "    filter = [selectv]\n",
        "    selectgeo = filter_geojson(geo_json=geo_json, filter_list=filter, property_key='dun')\n",
        "\n",
        "    # create map object\n",
        "    map = fm.Map(location=[5.016806622688496, 107.9456777002687], tiles='cartodbpositron', zoom_start=6)\n",
        "    fm.GeoJson(selectgeo, name='DUN boundary', tooltip=fm.GeoJsonTooltip(fields=['dun', 'parlimen'])).add_to(map)\n",
        "    map.fit_bounds(map.get_bounds(), padding=(30, 30))\n",
        "    folium_map = pn.panel(map, height=400)\n",
        "\n",
        "    # select data based on selected value\n",
        "    select_sociodemo = sociodemo[sociodemo['dun'] == selectv].copy()\n",
        "    select_sociodemo.loc[:, 'watercover'] = select_sociodemo['watercover'].round(decimals=3)\n",
        "    max_elev = select_sociodemo['max_elevation'].iloc[0]\n",
        "    water = select_sociodemo['watercover'].iloc[0]\n",
        "    pop = select_sociodemo['population_total'].iloc[0]\n",
        "\n",
        "    # create indicators\n",
        "    number = pn.indicators.Number(format='{value}')\n",
        "    indicator = pn.Row(\n",
        "        number.clone(name='Population', value=pop, colors=[(33, 'black')]),\n",
        "        number.clone(name='Maximum Elevation', value=max_elev, colors=[(66, 'blue')]),\n",
        "        number.clone(name='Surface covered in water', value=water, colors=[(100, 'red')]),\n",
        "        sizing_mode='stretch_width'\n",
        "    )\n",
        "\n",
        "    # create description\n",
        "    description = select_sociodemo['dun'].iloc[0]\n",
        "    str_pane = pn.indicators.Number(name=str(description))\n",
        "\n",
        "    # create panel object\n",
        "    app2 = pn.Column(\n",
        "        pn.Column(\n",
        "            str_pane,\n",
        "            indicator,\n",
        "            folium_map,\n",
        "            sizing_mode='scale_both'\n",
        "        ),\n",
        "        sizing_mode='scale_both'\n",
        "    )\n",
        "\n",
        "    return app2\n",
        "\n",
        "import json\n",
        "import urllib.request\n",
        "import geopandas as gpd\n",
        "import pandas as pd\n",
        "\n",
        "url = 'https://raw.githubusercontent.com/dosm-malaysia/data-open/main/datasets/geodata/electoral_1_dun.geojson'\n",
        "geo_json = json.load(urllib.request.urlopen(url))\n",
        "\n",
        "duns = gpd.read_file(\"https://raw.githubusercontent.com/dosm-malaysia/data-open/main/datasets/geodata/electoral_1_dun.geojson\")\n",
        "\n",
        "sociodemo = pd.read_csv('https://github.com/booluckgmie/podac/raw/main/sociodemo.csv')\n",
        "\n",
        "# READ DATAFRAME\n",
        "filter = ['Pulau Pinang']\n",
        "select_options = duns[duns['state'].isin(filter)]['dun'].values.tolist()\n",
        "\n",
        "# CREATE SELECTION\n",
        "select = pn.widgets.Select(name='Select DUN', options=select_options)\n",
        "\n",
        "def on_select_change(event):\n",
        "    layout[1] = create_app2(sociodemo, geo_json, select)\n",
        "\n",
        "select.param.watch(on_select_change, \"value\")\n",
        "\n",
        "app2 = create_app2(sociodemo, geo_json, select)\n",
        "\n",
        "# Arrange the widgets and apps\n",
        "layout = pn.Column(select, app2)\n",
        "layout.save('app.html', embed=True)\n",
        "\n",
        "layout.servable()\n",
        "\n"
      ],
      "metadata": {
        "id": "tokv_OfDF2iA",
        "outputId": "6a9132cc-9337-424c-d17b-3e1c858ea6f6",
        "colab": {
          "base_uri": "https://localhost:8080/"
        }
      },
      "id": "tokv_OfDF2iA",
      "execution_count": 3,
      "outputs": [
        {
          "output_type": "stream",
          "name": "stdout",
          "text": []
        },
        {
          "output_type": "stream",
          "name": "stderr",
          "text": [
            "WARNING:bokeh.core.validation.check:W-1005 (FIXED_SIZING_MODE): 'fixed' sizing mode requires width and height to be set: HTML(id='1370', ...)\n",
            "WARNING:bokeh.core.validation.check:W-1005 (FIXED_SIZING_MODE): 'fixed' sizing mode requires width and height to be set: HTML(id='1371', ...)\n",
            "WARNING:bokeh.core.validation.check:W-1005 (FIXED_SIZING_MODE): 'fixed' sizing mode requires width and height to be set: HTML(id='1367', ...)\n",
            "WARNING:bokeh.core.validation.check:W-1005 (FIXED_SIZING_MODE): 'fixed' sizing mode requires width and height to be set: HTML(id='1369', ...)\n",
            "WARNING:param.Column00110: Displaying Panel objects in the notebook requires the panel extension to be loaded. Ensure you run pn.extension() before displaying objects in the notebook.\n",
            "WARNING:param.Column00110:Displaying Panel objects in the notebook requires the panel extension to be loaded. Ensure you run pn.extension() before displaying objects in the notebook.\n"
          ]
        },
        {
          "output_type": "execute_result",
          "data": {
            "text/plain": [
              "Column\n",
              "    [0] Select(options=['N.01 Penaga', ...], value='N.01 Penaga')\n",
              "    [1] Column(sizing_mode='scale_both')\n",
              "        [0] Column(sizing_mode='scale_both')\n",
              "            [0] Number(name='N.01 Penaga')\n",
              "            [1] Row(sizing_mode='stretch_width')\n",
              "                [0] Number(colors=[(33, 'black')], name='Population', value=28207)\n",
              "                [1] Number(colors=[(66, 'blue')], name='Maximum Elevation', value=31.0)\n",
              "                [2] Number(colors=[(100, 'red')], name='Surface covered i..., value=0.633)\n",
              "            [2] Folium(Map, height=400)"
            ]
          },
          "metadata": {},
          "execution_count": 3
        }
      ]
    },
    {
      "cell_type": "code",
      "source": [],
      "metadata": {
        "id": "l-wxCXXiH_iY"
      },
      "id": "l-wxCXXiH_iY",
      "execution_count": 3,
      "outputs": []
    }
  ],
  "metadata": {
    "kernelspec": {
      "display_name": "Python 3",
      "language": "python",
      "name": "python3"
    },
    "language_info": {
      "codemirror_mode": {
        "name": "ipython",
        "version": 3
      },
      "file_extension": ".py",
      "mimetype": "text/x-python",
      "name": "python",
      "nbconvert_exporter": "python",
      "pygments_lexer": "ipython3",
      "version": "3.8.8"
    },
    "colab": {
      "provenance": [],
      "include_colab_link": true
    }
  },
  "nbformat": 4,
  "nbformat_minor": 5
}